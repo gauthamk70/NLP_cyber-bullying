{
 "cells": [
  {
   "cell_type": "code",
   "execution_count": 1,
   "metadata": {},
   "outputs": [],
   "source": [
    "import pandas as pd\n"
   ]
  },
  {
   "cell_type": "code",
   "execution_count": 2,
   "metadata": {},
   "outputs": [
    {
     "data": {
      "text/html": [
       "<div>\n",
       "<style scoped>\n",
       "    .dataframe tbody tr th:only-of-type {\n",
       "        vertical-align: middle;\n",
       "    }\n",
       "\n",
       "    .dataframe tbody tr th {\n",
       "        vertical-align: top;\n",
       "    }\n",
       "\n",
       "    .dataframe thead th {\n",
       "        text-align: right;\n",
       "    }\n",
       "</style>\n",
       "<table border=\"1\" class=\"dataframe\">\n",
       "  <thead>\n",
       "    <tr style=\"text-align: right;\">\n",
       "      <th></th>\n",
       "      <th>tweet_text</th>\n",
       "      <th>cyberbullying_type</th>\n",
       "    </tr>\n",
       "  </thead>\n",
       "  <tbody>\n",
       "    <tr>\n",
       "      <th>0</th>\n",
       "      <td>In other * words running jumping #katandandre,...</td>\n",
       "      <td>not_cyberbullying</td>\n",
       "    </tr>\n",
       "    <tr>\n",
       "      <th>1</th>\n",
       "      <td>Why is #aussietv so white? #MKR #theblock #ImA...</td>\n",
       "      <td>not_cyberbullying</td>\n",
       "    </tr>\n",
       "    <tr>\n",
       "      <th>2</th>\n",
       "      <td>@XochitlSuckkks a classy whore? Or more red ve...</td>\n",
       "      <td>not_cyberbullying</td>\n",
       "    </tr>\n",
       "    <tr>\n",
       "      <th>3</th>\n",
       "      <td>@Jason_Gio meh. :P  thanks for the heads up, b...</td>\n",
       "      <td>not_cyberbullying</td>\n",
       "    </tr>\n",
       "    <tr>\n",
       "      <th>4</th>\n",
       "      <td>@RudhoeEnglish This is an ISIS account pretend...</td>\n",
       "      <td>not_cyberbullying</td>\n",
       "    </tr>\n",
       "    <tr>\n",
       "      <th>...</th>\n",
       "      <td>...</td>\n",
       "      <td>...</td>\n",
       "    </tr>\n",
       "    <tr>\n",
       "      <th>47687</th>\n",
       "      <td>Black ppl aren't expected to do anything, depe...</td>\n",
       "      <td>ethnicity</td>\n",
       "    </tr>\n",
       "    <tr>\n",
       "      <th>47688</th>\n",
       "      <td>Turner did not withhold his disappointment. Tu...</td>\n",
       "      <td>ethnicity</td>\n",
       "    </tr>\n",
       "    <tr>\n",
       "      <th>47689</th>\n",
       "      <td>I swear to God. This dumb nigger bitch. I have...</td>\n",
       "      <td>ethnicity</td>\n",
       "    </tr>\n",
       "    <tr>\n",
       "      <th>47690</th>\n",
       "      <td>Yea fuck you RT @therealexel: IF YOURE A NIGGE...</td>\n",
       "      <td>ethnicity</td>\n",
       "    </tr>\n",
       "    <tr>\n",
       "      <th>47691</th>\n",
       "      <td>Bro. U gotta chill RT @CHILLShrammy: Dog FUCK ...</td>\n",
       "      <td>ethnicity</td>\n",
       "    </tr>\n",
       "  </tbody>\n",
       "</table>\n",
       "<p>47692 rows × 2 columns</p>\n",
       "</div>"
      ],
      "text/plain": [
       "                                              tweet_text cyberbullying_type\n",
       "0      In other * words running jumping #katandandre,...  not_cyberbullying\n",
       "1      Why is #aussietv so white? #MKR #theblock #ImA...  not_cyberbullying\n",
       "2      @XochitlSuckkks a classy whore? Or more red ve...  not_cyberbullying\n",
       "3      @Jason_Gio meh. :P  thanks for the heads up, b...  not_cyberbullying\n",
       "4      @RudhoeEnglish This is an ISIS account pretend...  not_cyberbullying\n",
       "...                                                  ...                ...\n",
       "47687  Black ppl aren't expected to do anything, depe...          ethnicity\n",
       "47688  Turner did not withhold his disappointment. Tu...          ethnicity\n",
       "47689  I swear to God. This dumb nigger bitch. I have...          ethnicity\n",
       "47690  Yea fuck you RT @therealexel: IF YOURE A NIGGE...          ethnicity\n",
       "47691  Bro. U gotta chill RT @CHILLShrammy: Dog FUCK ...          ethnicity\n",
       "\n",
       "[47692 rows x 2 columns]"
      ]
     },
     "execution_count": 2,
     "metadata": {},
     "output_type": "execute_result"
    }
   ],
   "source": [
    "df = pd.read_csv(r'C:\\Users\\91828\\Desktop\\py files\\projects\\nlp cyberbully\\cyberbullying_tweets.csv')\n",
    "df"
   ]
  },
  {
   "cell_type": "code",
   "execution_count": 3,
   "metadata": {},
   "outputs": [
    {
     "data": {
      "text/plain": [
       "array(['not_cyberbullying', 'gender', 'religion', 'other_cyberbullying',\n",
       "       'age', 'ethnicity'], dtype=object)"
      ]
     },
     "execution_count": 3,
     "metadata": {},
     "output_type": "execute_result"
    }
   ],
   "source": [
    "df['cyberbullying_type'].unique()"
   ]
  },
  {
   "cell_type": "markdown",
   "metadata": {},
   "source": [
    "one hot encoding"
   ]
  },
  {
   "cell_type": "code",
   "execution_count": 4,
   "metadata": {},
   "outputs": [],
   "source": [
    "# from sklearn.preprocessing import OneHotEncoder\n",
    "\n",
    "# ohe = OneHotEncoder(handle_unknown='ignore',sparse_output=False).set_output(transform='pandas')\n",
    "\n",
    "# ohe_transform = ohe.fit_transform(df[['cyberbullying_type']])\n",
    "\n",
    "# df = pd.concat([df,ohe_transform],axis=1).drop(columns=['cyberbullying_type'])\n",
    "\n",
    "# df.head(2)"
   ]
  },
  {
   "cell_type": "markdown",
   "metadata": {},
   "source": [
    "label encoding"
   ]
  },
  {
   "cell_type": "code",
   "execution_count": 5,
   "metadata": {},
   "outputs": [
    {
     "data": {
      "text/html": [
       "<div>\n",
       "<style scoped>\n",
       "    .dataframe tbody tr th:only-of-type {\n",
       "        vertical-align: middle;\n",
       "    }\n",
       "\n",
       "    .dataframe tbody tr th {\n",
       "        vertical-align: top;\n",
       "    }\n",
       "\n",
       "    .dataframe thead th {\n",
       "        text-align: right;\n",
       "    }\n",
       "</style>\n",
       "<table border=\"1\" class=\"dataframe\">\n",
       "  <thead>\n",
       "    <tr style=\"text-align: right;\">\n",
       "      <th></th>\n",
       "      <th>tweet_text</th>\n",
       "      <th>cyberbullying_type</th>\n",
       "    </tr>\n",
       "  </thead>\n",
       "  <tbody>\n",
       "    <tr>\n",
       "      <th>0</th>\n",
       "      <td>In other * words running jumping #katandandre,...</td>\n",
       "      <td>3</td>\n",
       "    </tr>\n",
       "    <tr>\n",
       "      <th>1</th>\n",
       "      <td>Why is #aussietv so white? #MKR #theblock #ImA...</td>\n",
       "      <td>3</td>\n",
       "    </tr>\n",
       "    <tr>\n",
       "      <th>2</th>\n",
       "      <td>@XochitlSuckkks a classy whore? Or more red ve...</td>\n",
       "      <td>3</td>\n",
       "    </tr>\n",
       "    <tr>\n",
       "      <th>3</th>\n",
       "      <td>@Jason_Gio meh. :P  thanks for the heads up, b...</td>\n",
       "      <td>3</td>\n",
       "    </tr>\n",
       "    <tr>\n",
       "      <th>4</th>\n",
       "      <td>@RudhoeEnglish This is an ISIS account pretend...</td>\n",
       "      <td>3</td>\n",
       "    </tr>\n",
       "    <tr>\n",
       "      <th>...</th>\n",
       "      <td>...</td>\n",
       "      <td>...</td>\n",
       "    </tr>\n",
       "    <tr>\n",
       "      <th>47687</th>\n",
       "      <td>Black ppl aren't expected to do anything, depe...</td>\n",
       "      <td>1</td>\n",
       "    </tr>\n",
       "    <tr>\n",
       "      <th>47688</th>\n",
       "      <td>Turner did not withhold his disappointment. Tu...</td>\n",
       "      <td>1</td>\n",
       "    </tr>\n",
       "    <tr>\n",
       "      <th>47689</th>\n",
       "      <td>I swear to God. This dumb nigger bitch. I have...</td>\n",
       "      <td>1</td>\n",
       "    </tr>\n",
       "    <tr>\n",
       "      <th>47690</th>\n",
       "      <td>Yea fuck you RT @therealexel: IF YOURE A NIGGE...</td>\n",
       "      <td>1</td>\n",
       "    </tr>\n",
       "    <tr>\n",
       "      <th>47691</th>\n",
       "      <td>Bro. U gotta chill RT @CHILLShrammy: Dog FUCK ...</td>\n",
       "      <td>1</td>\n",
       "    </tr>\n",
       "  </tbody>\n",
       "</table>\n",
       "<p>47692 rows × 2 columns</p>\n",
       "</div>"
      ],
      "text/plain": [
       "                                              tweet_text  cyberbullying_type\n",
       "0      In other * words running jumping #katandandre,...                   3\n",
       "1      Why is #aussietv so white? #MKR #theblock #ImA...                   3\n",
       "2      @XochitlSuckkks a classy whore? Or more red ve...                   3\n",
       "3      @Jason_Gio meh. :P  thanks for the heads up, b...                   3\n",
       "4      @RudhoeEnglish This is an ISIS account pretend...                   3\n",
       "...                                                  ...                 ...\n",
       "47687  Black ppl aren't expected to do anything, depe...                   1\n",
       "47688  Turner did not withhold his disappointment. Tu...                   1\n",
       "47689  I swear to God. This dumb nigger bitch. I have...                   1\n",
       "47690  Yea fuck you RT @therealexel: IF YOURE A NIGGE...                   1\n",
       "47691  Bro. U gotta chill RT @CHILLShrammy: Dog FUCK ...                   1\n",
       "\n",
       "[47692 rows x 2 columns]"
      ]
     },
     "execution_count": 5,
     "metadata": {},
     "output_type": "execute_result"
    }
   ],
   "source": [
    "from sklearn.preprocessing import LabelEncoder\n",
    "le = LabelEncoder()\n",
    "df['cyberbullying_type'] = le.fit_transform(df['cyberbullying_type'])\n",
    "df"
   ]
  },
  {
   "cell_type": "code",
   "execution_count": 6,
   "metadata": {},
   "outputs": [
    {
     "data": {
      "text/plain": [
       "0        In other * words running jumping #katandandre,...\n",
       "1        Why is #aussietv so white? #MKR #theblock #ImA...\n",
       "2        @XochitlSuckkks a classy whore? Or more red ve...\n",
       "3        @Jason_Gio meh. :P  thanks for the heads up, b...\n",
       "4        @RudhoeEnglish This is an ISIS account pretend...\n",
       "                               ...                        \n",
       "47687    Black ppl aren't expected to do anything, depe...\n",
       "47688    Turner did not withhold his disappointment. Tu...\n",
       "47689    I swear to God. This dumb nigger bitch. I have...\n",
       "47690    Yea fuck you RT @therealexel: IF YOURE A NIGGE...\n",
       "47691    Bro. U gotta chill RT @CHILLShrammy: Dog FUCK ...\n",
       "Name: tweet_text, Length: 47692, dtype: object"
      ]
     },
     "execution_count": 6,
     "metadata": {},
     "output_type": "execute_result"
    }
   ],
   "source": [
    "tweet = df.tweet_text\n",
    "tweet"
   ]
  },
  {
   "cell_type": "code",
   "execution_count": 7,
   "metadata": {},
   "outputs": [
    {
     "data": {
      "text/plain": [
       "0        In other * words running jumping #katandandre,...\n",
       "1        Why is #aussietv so white? #MKR #theblock #ImA...\n",
       "2        @XochitlSuckkks a classy whore? Or more red ve...\n",
       "3        @Jason_Gio meh. :P  thanks for the heads up, b...\n",
       "4        @RudhoeEnglish This is an ISIS account pretend...\n",
       "                               ...                        \n",
       "47687    Black ppl aren't expected to do anything, depe...\n",
       "47688    Turner did not withhold his disappointment. Tu...\n",
       "47689    I swear to God. This dumb nigger bitch. I have...\n",
       "47690    Yea fuck you RT @therealexel: IF YOURE A NIGGE...\n",
       "47691    Bro. U gotta chill RT @CHILLShrammy: Dog FUCK ...\n",
       "Name: tweet_text, Length: 47692, dtype: object"
      ]
     },
     "execution_count": 7,
     "metadata": {},
     "output_type": "execute_result"
    }
   ],
   "source": [
    "tweet = tweet.str.replace('[^a-zA-Z0-9]+',' ')\n",
    "tweet"
   ]
  },
  {
   "cell_type": "code",
   "execution_count": 8,
   "metadata": {},
   "outputs": [
    {
     "name": "stderr",
     "output_type": "stream",
     "text": [
      "[nltk_data] Downloading package punkt to\n",
      "[nltk_data]     C:\\Users\\91828\\AppData\\Roaming\\nltk_data...\n",
      "[nltk_data]   Package punkt is already up-to-date!\n",
      "[nltk_data] Downloading package wordnet to\n",
      "[nltk_data]     C:\\Users\\91828\\AppData\\Roaming\\nltk_data...\n",
      "[nltk_data]   Package wordnet is already up-to-date!\n"
     ]
    }
   ],
   "source": [
    "import nltk\n",
    "from nltk.stem import WordNetLemmatizer\n",
    "nltk.download('punkt')\n",
    "nltk.download('wordnet')\n",
    "from nltk.tokenize import word_tokenize"
   ]
  },
  {
   "cell_type": "code",
   "execution_count": 9,
   "metadata": {},
   "outputs": [
    {
     "data": {
      "text/plain": [
       "0        in other * word running jumping # katandandre ...\n",
       "1        why is # aussietv so white ? # mkr # theblock ...\n",
       "2        @ xochitlsuckkks a classy whore ? or more red ...\n",
       "3        @ jason_gio meh . : p thanks for the head up ,...\n",
       "4        @ rudhoeenglish this is an isi account pretend...\n",
       "                               ...                        \n",
       "47687    black ppl are n't expected to do anything , de...\n",
       "47688    turner did not withhold his disappointment . t...\n",
       "47689    i swear to god . this dumb nigger bitch . i ha...\n",
       "47690    yea fuck you rt @ therealexel : if youre a nig...\n",
       "47691    bro . u got ta chill rt @ chillshrammy : dog f...\n",
       "Name: tweet_text, Length: 47692, dtype: object"
      ]
     },
     "execution_count": 9,
     "metadata": {},
     "output_type": "execute_result"
    }
   ],
   "source": [
    "lem=WordNetLemmatizer()\n",
    "tweet=tweet.apply(lambda line:[lem.lemmatize(token.lower()) for token in word_tokenize(line)]).apply(lambda token:\" \".join(token))\n",
    "tweet"
   ]
  },
  {
   "cell_type": "code",
   "execution_count": 10,
   "metadata": {},
   "outputs": [
    {
     "name": "stderr",
     "output_type": "stream",
     "text": [
      "[nltk_data] Downloading package stopwords to\n",
      "[nltk_data]     C:\\Users\\91828\\AppData\\Roaming\\nltk_data...\n",
      "[nltk_data]   Package stopwords is already up-to-date!\n"
     ]
    },
    {
     "data": {
      "text/plain": [
       "0        word running jumping katandandre food crapilic...\n",
       "1        aussietv white mkr theblock imacelebrityau tod...\n",
       "2           xochitlsuckkks classy whore red velvet cupcake\n",
       "3        jason_gio meh thanks head concerned another an...\n",
       "4        rudhoeenglish isi account pretending kurdish a...\n",
       "                               ...                        \n",
       "47687    black ppl n't expected anything depended anyth...\n",
       "47688    turner withhold disappointment turner called c...\n",
       "47689    swear god dumb nigger bitch got bleach hair re...\n",
       "47690    yea fuck therealexel youre nigger fucking unfo...\n",
       "47691    bro got chill chillshrammy dog fuck dumb nigge...\n",
       "Name: tweet_text, Length: 47692, dtype: object"
      ]
     },
     "execution_count": 10,
     "metadata": {},
     "output_type": "execute_result"
    }
   ],
   "source": [
    "# only this made a change\n",
    "\n",
    "from nltk.corpus import stopwords\n",
    "nltk.download('stopwords')\n",
    "sw_eng=stopwords.words('english')\n",
    "tweet=tweet.apply(lambda line:[token for token in word_tokenize(line) if token not in sw_eng and len(token)>2]). apply(lambda token:\" \".join(token))\n",
    "tweet"
   ]
  },
  {
   "cell_type": "code",
   "execution_count": 11,
   "metadata": {},
   "outputs": [
    {
     "name": "stdout",
     "output_type": "stream",
     "text": [
      "  (0, 33515)\t0.19749456193050177\n",
      "  (0, 12761)\t0.5544462401480814\n",
      "  (0, 19461)\t0.3383861086331956\n",
      "  (0, 28095)\t0.4098033168288428\n",
      "  (0, 27601)\t0.4300940141692445\n",
      "  (0, 43460)\t0.3516826967007361\n",
      "  (0, 55053)\t0.2499595319462359\n",
      "  (1, 17601)\t0.1948566117960254\n",
      "  (1, 55005)\t0.37164874892134014\n",
      "  (1, 35230)\t0.32962588710288493\n",
      "  (1, 47925)\t0.37164874892134014\n",
      "  (1, 48258)\t0.3580477688167807\n",
      "  (1, 50675)\t0.1833611696138702\n",
      "  (1, 24665)\t0.33479673975458973\n",
      "  (1, 49791)\t0.3580477688167807\n",
      "  (1, 54558)\t0.13920403827012043\n",
      "  (1, 5748)\t0.37164874892134014\n",
      "  (1, 33515)\t0.13238182811129864\n",
      "  (2, 13178)\t0.42628678748184246\n",
      "  (2, 53165)\t0.46213976837053955\n",
      "  (2, 41823)\t0.3168746801776158\n",
      "  (2, 54629)\t0.33839616742018686\n",
      "  (2, 11260)\t0.36873400837715126\n",
      "  (2, 55498)\t0.5038056285043033\n",
      "  (3, 51789)\t0.2341623609796195\n",
      "  :\t:\n",
      "  (47689, 22286)\t0.28755075147155296\n",
      "  (47689, 7629)\t0.18754556182766274\n",
      "  (47689, 20024)\t0.3079569908116978\n",
      "  (47689, 19978)\t0.14541198710737516\n",
      "  (47689, 46794)\t0.3005811264922617\n",
      "  (47689, 21472)\t0.19909561963359426\n",
      "  (47689, 21261)\t0.24326489183136937\n",
      "  (47690, 50034)\t0.516392448523689\n",
      "  (47690, 35575)\t0.30782046601113877\n",
      "  (47690, 56012)\t0.3722754459872462\n",
      "  (47690, 52402)\t0.3793248172763156\n",
      "  (47690, 55743)\t0.351311818657897\n",
      "  (47690, 16208)\t0.1565319343440625\n",
      "  (47690, 20025)\t0.4302556882402141\n",
      "  (47690, 19978)\t0.15187783730488041\n",
      "  (47691, 10726)\t0.5840172433053765\n",
      "  (47691, 35575)\t0.167695565932593\n",
      "  (47691, 10716)\t0.3973661016283086\n",
      "  (47691, 30568)\t0.3042076958413418\n",
      "  (47691, 16208)\t0.17055208613322795\n",
      "  (47691, 7629)\t0.21342980623566524\n",
      "  (47691, 15574)\t0.32908702332888523\n",
      "  (47691, 8792)\t0.34453096840536424\n",
      "  (47691, 19978)\t0.16548113391874714\n",
      "  (47691, 21472)\t0.22657395411902553\n"
     ]
    }
   ],
   "source": [
    "from sklearn.feature_extraction.text import TfidfVectorizer\n",
    "vec=TfidfVectorizer()\n",
    "data_vec=vec.fit_transform(tweet)\n",
    "print(data_vec)"
   ]
  },
  {
   "cell_type": "code",
   "execution_count": 12,
   "metadata": {},
   "outputs": [
    {
     "data": {
      "text/plain": [
       "(47692, 56718)"
      ]
     },
     "execution_count": 12,
     "metadata": {},
     "output_type": "execute_result"
    }
   ],
   "source": [
    "data_vec.shape"
   ]
  },
  {
   "cell_type": "code",
   "execution_count": 13,
   "metadata": {},
   "outputs": [
    {
     "data": {
      "text/plain": [
       "(47692,)"
      ]
     },
     "execution_count": 13,
     "metadata": {},
     "output_type": "execute_result"
    }
   ],
   "source": [
    "y=df['cyberbullying_type'].values\n",
    "\n",
    "\n",
    "y.shape"
   ]
  },
  {
   "cell_type": "code",
   "execution_count": 14,
   "metadata": {},
   "outputs": [],
   "source": [
    "from sklearn.model_selection import train_test_split\n",
    "X_train,X_test,y_train,y_test=train_test_split(data_vec,y,test_size=0.3,random_state=1)"
   ]
  },
  {
   "cell_type": "code",
   "execution_count": 15,
   "metadata": {},
   "outputs": [
    {
     "name": "stdout",
     "output_type": "stream",
     "text": [
      "              precision    recall  f1-score   support\n",
      "\n",
      "           0       0.97      0.97      0.97      2423\n",
      "           1       0.98      0.98      0.98      2350\n",
      "           2       0.93      0.83      0.87      2384\n",
      "           3       0.62      0.52      0.56      2430\n",
      "           4       0.57      0.76      0.65      2290\n",
      "           5       0.97      0.93      0.95      2431\n",
      "\n",
      "    accuracy                           0.83     14308\n",
      "   macro avg       0.84      0.83      0.83     14308\n",
      "weighted avg       0.84      0.83      0.83     14308\n",
      "\n"
     ]
    }
   ],
   "source": [
    "from sklearn.svm import SVC\n",
    "from sklearn.metrics import classification_report\n",
    "sv = SVC()\n",
    "sv.fit(X_train,y_train)\n",
    "y_pred = sv.predict(X_test)\n",
    "print(classification_report(y_test,y_pred))"
   ]
  },
  {
   "cell_type": "code",
   "execution_count": 16,
   "metadata": {},
   "outputs": [],
   "source": [
    "import pickle\n",
    "with open(\"model_pickle\", \"wb\") as f:\n",
    "    pickle.dump(sv, f)\n",
    "    \n"
   ]
  },
  {
   "cell_type": "code",
   "execution_count": 17,
   "metadata": {},
   "outputs": [],
   "source": [
    "with open(\"model_pickle\", \"rb\") as f:\n",
    "    mp = pickle.load(f)"
   ]
  },
  {
   "cell_type": "code",
   "execution_count": 63,
   "metadata": {},
   "outputs": [
    {
     "name": "stdout",
     "output_type": "stream",
     "text": [
      "religion related cyber bullying\n"
     ]
    }
   ],
   "source": [
    "y_new=mp.predict(vec.transform(['Oh sure its falling to pieces. Well see. 2 billion people claim to be Christian. How many you think have read the Bible and know its precepts? Same goes for Islam. Unfortunately for Islam, a disproportionate segment of the people hold and support radical views']))\n",
    "y_new\n",
    "if y_new==([0]):\n",
    "    print('age related cyber bullying')\n",
    "elif y_new==([1]):\n",
    "    print('race/ethnicity related cyber bullying')\n",
    "elif y_new==([2]):\n",
    "    print('gender related cyber bullying')\n",
    "elif y_new==([3]):\n",
    "    print('not-cyber bullying')\n",
    "elif y_new==([4]):\n",
    "    print('other cyber bullying')\n",
    "elif y_new==([5]):\n",
    "    print('religion related cyber bullying')\n",
    "else:\n",
    "    print('enter a valid string')        "
   ]
  }
 ],
 "metadata": {
  "kernelspec": {
   "display_name": "Python 3",
   "language": "python",
   "name": "python3"
  },
  "language_info": {
   "codemirror_mode": {
    "name": "ipython",
    "version": 3
   },
   "file_extension": ".py",
   "mimetype": "text/x-python",
   "name": "python",
   "nbconvert_exporter": "python",
   "pygments_lexer": "ipython3",
   "version": "3.11.1"
  }
 },
 "nbformat": 4,
 "nbformat_minor": 2
}
